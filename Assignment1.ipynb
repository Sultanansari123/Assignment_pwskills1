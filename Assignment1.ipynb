{
 "cells": [
  {
   "cell_type": "markdown",
   "id": "cca2450f-5097-43ce-963c-e9f0685bddd1",
   "metadata": {},
   "source": [
    "# Assignments"
   ]
  },
  {
   "cell_type": "code",
   "execution_count": 3,
   "id": "1b587895-e267-4f25-98df-a8ad04d0b691",
   "metadata": {},
   "outputs": [
    {
     "name": "stdin",
     "output_type": "stream",
     "text": [
      "enter your user marks 91\n"
     ]
    },
    {
     "name": "stdout",
     "output_type": "stream",
     "text": [
      "Grade: A\n"
     ]
    }
   ],
   "source": [
    "Ans1-\n",
    "marks=int(input('enter your user marks'))\n",
    "if marks<60:\n",
    "    print('Grade:','D')\n",
    "elif marks>60 and marks<=80:\n",
    "    print('Grade:','c')\n",
    "elif marks>80 and marks<=90:\n",
    "    print('Grade:','B')\n",
    "else:\n",
    "    print('Grade:','A')\n",
    "\n",
    "    "
   ]
  },
  {
   "cell_type": "code",
   "execution_count": 4,
   "id": "19f82f18-8b15-4857-a7a7-d2ec59ce4b4b",
   "metadata": {},
   "outputs": [
    {
     "name": "stdin",
     "output_type": "stream",
     "text": [
      "enter your cost price of the bike 60000\n"
     ]
    },
    {
     "name": "stdout",
     "output_type": "stream",
     "text": [
      "Road tax: 10%\n"
     ]
    }
   ],
   "source": [
    "Ans2-\n",
    "cost_price_of_bike=int(input('enter your cost price of the bike'))\n",
    "if cost_price_of_bike<=50000:\n",
    "    print('Road tax:','5%')\n",
    "elif cost_price_of_bike>50000 and cost_price_of_bike<100000:\n",
    "    print('Road tax:','10%')\n",
    "else:\n",
    "     print('Road tax:','15%')"
   ]
  },
  {
   "cell_type": "code",
   "execution_count": 6,
   "id": "331012b3-35af-482d-a729-607830fd2238",
   "metadata": {},
   "outputs": [
    {
     "name": "stdin",
     "output_type": "stream",
     "text": [
      "enter a city Jaipur\n"
     ]
    },
    {
     "name": "stdout",
     "output_type": "stream",
     "text": [
      "Jal Mahal\n"
     ]
    }
   ],
   "source": [
    "Ans3-\n",
    "city=input('enter a city')\n",
    "if city=='Delhi':\n",
    "    print('Red Fort')\n",
    "elif city=='Agra':\n",
    "    print('Taj Mahal')\n",
    "elif city=='Jaipur':\n",
    "    print('Jal Mahal')\n",
    "else:\n",
    "    print('Invalid input')"
   ]
  },
  {
   "cell_type": "code",
   "execution_count": 11,
   "id": "c756cc32-4bb1-4b87-9102-d1b01eab7eda",
   "metadata": {},
   "outputs": [
    {
     "name": "stdin",
     "output_type": "stream",
     "text": [
      "Enter a number:  100\n"
     ]
    },
    {
     "name": "stdout",
     "output_type": "stream",
     "text": [
      "The number can be divided by 3 3 times before becoming less than or equal to 10.\n"
     ]
    }
   ],
   "source": [
    "#Ans4-\n",
    "def count_divisions_by_three(number):\n",
    "    count = 0\n",
    "    \n",
    "    while number > 10:\n",
    "        number /= 3\n",
    "        count += 1\n",
    "    \n",
    "    return count\n",
    "\n",
    "# Get user input\n",
    "user_input = float(input(\"Enter a number: \"))\n",
    "\n",
    "# Call the function and display the result\n",
    "result = count_divisions_by_three(user_input)\n",
    "print(f\"The number can be divided by 3 {result} times before becoming less than or equal to 10.\")\n"
   ]
  },
  {
   "cell_type": "code",
   "execution_count": null,
   "id": "29c46a79-d9e2-4ad9-9bf5-3b5242869c22",
   "metadata": {},
   "outputs": [],
   "source": [
    "# Ans5-\n",
    "# while loops are useful when you need to repeat a block of code based on a condition\n",
    "# Example-\n",
    "# Example: Print numbers from 1 to 5 using a while loop\n",
    "\n",
    "counter = 1\n",
    "\n",
    "while counter <= 5:\n",
    "    print(counter)\n",
    "    counter += 1"
   ]
  },
  {
   "cell_type": "code",
   "execution_count": 12,
   "id": "60bebe3c-0757-453e-8ea0-0f97c3fe7eb8",
   "metadata": {},
   "outputs": [
    {
     "name": "stdout",
     "output_type": "stream",
     "text": [
      "* * * * * \n",
      "* * * * * \n",
      "* * * * * \n",
      "* * * * * \n",
      "* * * * * \n"
     ]
    }
   ],
   "source": [
    "#Ans6-\n",
    "# to print three different pattern using nested while loop\n",
    "# Square Pattern\n",
    "row = 1\n",
    "while row <= 5:\n",
    "    col = 1\n",
    "    while col <= 5:\n",
    "        print('*', end=' ')\n",
    "        col += 1\n",
    "    print()\n",
    "    row += 1\n"
   ]
  },
  {
   "cell_type": "code",
   "execution_count": 13,
   "id": "2bce47bc-8f26-4f93-82b7-c08c227c15ea",
   "metadata": {},
   "outputs": [
    {
     "name": "stdout",
     "output_type": "stream",
     "text": [
      "* \n",
      "* * \n",
      "* * * \n",
      "* * * * \n",
      "* * * * * \n"
     ]
    }
   ],
   "source": [
    "# Right-angled Triangle\n",
    "row = 1\n",
    "while row <= 5:\n",
    "    col = 1\n",
    "    while col <= row:\n",
    "        print('*', end=' ')\n",
    "        col += 1\n",
    "    print()\n",
    "    row += 1\n"
   ]
  },
  {
   "cell_type": "code",
   "execution_count": 14,
   "id": "ad6d3e6a-2b9b-43e5-a1c4-154f4e6728ed",
   "metadata": {},
   "outputs": [
    {
     "name": "stdout",
     "output_type": "stream",
     "text": [
      "* * * * * \n",
      "* * * * \n",
      "* * * \n",
      "* * \n",
      "* \n"
     ]
    }
   ],
   "source": [
    "# Inverted Right-angled Triangle\n",
    "row = 5\n",
    "while row >= 1:\n",
    "    col = 1\n",
    "    while col <= row:\n",
    "        print('*', end=' ')\n",
    "        col += 1\n",
    "    print()\n",
    "    row -= 1\n",
    "\n",
    "    "
   ]
  },
  {
   "cell_type": "code",
   "execution_count": 3,
   "id": "8479da3b-38bb-44de-b809-eddc03d182ff",
   "metadata": {},
   "outputs": [
    {
     "name": "stdout",
     "output_type": "stream",
     "text": [
      "10\n",
      "9\n",
      "8\n",
      "7\n",
      "6\n",
      "5\n",
      "4\n",
      "3\n",
      "2\n",
      "1\n"
     ]
    }
   ],
   "source": [
    "# Ans7-\n",
    "# Display number from 10 to 1 using while loop\n",
    "num=10\n",
    "while num>0:\n",
    "    print(num)\n",
    "    num=num-1\n",
    "    \n",
    "    \n",
    "    \n",
    "    "
   ]
  },
  {
   "cell_type": "code",
   "execution_count": 4,
   "id": "7c7303e4-cfa0-4acf-a665-be1d89ef6f83",
   "metadata": {},
   "outputs": [
    {
     "name": "stdout",
     "output_type": "stream",
     "text": [
      "1\n",
      "2\n",
      "3\n",
      "4\n",
      "5\n",
      "6\n",
      "7\n",
      "8\n",
      "9\n",
      "10\n"
     ]
    }
   ],
   "source": [
    "# Ans7-\n",
    "# Display number from 1 to 10 using while loop\n",
    "num=1\n",
    "while num<11:\n",
    "    print(num)\n",
    "    num=num+1\n",
    "    "
   ]
  },
  {
   "cell_type": "code",
   "execution_count": null,
   "id": "43d4e661-b48a-4016-af8f-07e4364556ba",
   "metadata": {},
   "outputs": [],
   "source": []
  }
 ],
 "metadata": {
  "kernelspec": {
   "display_name": "Python 3 (ipykernel)",
   "language": "python",
   "name": "python3"
  },
  "language_info": {
   "codemirror_mode": {
    "name": "ipython",
    "version": 3
   },
   "file_extension": ".py",
   "mimetype": "text/x-python",
   "name": "python",
   "nbconvert_exporter": "python",
   "pygments_lexer": "ipython3",
   "version": "3.10.8"
  }
 },
 "nbformat": 4,
 "nbformat_minor": 5
}
